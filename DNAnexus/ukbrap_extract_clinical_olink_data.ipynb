{
 "cells": [
  {
   "cell_type": "markdown",
   "metadata": {},
   "source": [
    "# pQTL relevant data extraction using PySpark on UKB RAP\n",
    "This notebook is built upon two notebooks from DNAnexus:\n",
    "https://github.com/dnanexus/OpenBio/blob/master/UKB_notebooks/ukb-rap-pheno-basic.ipynb\n",
    "https://github.com/dnanexus/UKB_RAP/blob/main/proteomics/0_extract_phenotype_protein_data.ipynb\n",
    "\n",
    "### This notebook consists of three sections:\n",
    "### Step 1: Extract clinical phenotype data from dataset['participant'] \n",
    "### Step 2: Extract Olink proteomics from dataset['olink_instance_0']\n",
    "### Step 3: Extract operation records from dataset['hesin_oper']"
   ]
  },
  {
   "cell_type": "code",
   "execution_count": 1,
   "metadata": {
    "tags": []
   },
   "outputs": [
    {
     "name": "stderr",
     "output_type": "stream",
     "text": [
      "/cluster/spark/python/pyspark/sql/context.py:77: FutureWarning: Deprecated in 3.0.0. Use SparkSession.builder.getOrCreate() instead.\n",
      "  warnings.warn(\n"
     ]
    }
   ],
   "source": [
    "# Import packages\n",
    "# dxpy allows python to interact with the platform storage\n",
    "# Note: This notebook is using spark since the size of the dataset we're extracting\n",
    "# (i.e. the number of fields) is too large for a single node instance.\n",
    "import dxpy\n",
    "import dxdata\n",
    "\n",
    "import pandas as pd\n",
    "import subprocess\n",
    "import glob\n",
    "import os\n",
    "import pyspark\n",
    "from pyspark import SparkConf, SparkContext\n",
    "from pyspark.sql import SQLContext\n",
    "\n",
    "\n",
    "# Spark initialization (Done only once; do not rerun this cell unless you select Kernel -> Restart kernel).\n",
    "# Need to adjust this buffer otherwise will get an error in toPandas() call\n",
    "conf = pyspark.SparkConf().set(\"spark.kryoserializer.buffer.max\", \"1024\")\n",
    "\n",
    "sc = pyspark.SparkContext(conf=conf)\n",
    "spark = pyspark.sql.SparkSession(sc)\n",
    "sqlContext = SQLContext(sc)"
   ]
  },
  {
   "cell_type": "code",
   "execution_count": 2,
   "metadata": {
    "tags": []
   },
   "outputs": [],
   "source": [
    "# Normal spark initialization (Done only once; do not rerun this cell unless you select Kernel -> Restart kernel).\n",
    "# sc = pyspark.SparkContext()\n",
    "# spark = pyspark.sql.SparkSession(sc)"
   ]
  },
  {
   "cell_type": "code",
   "execution_count": 3,
   "metadata": {
    "tags": []
   },
   "outputs": [
    {
     "data": {
      "text/plain": [
       "'0.41.0'"
      ]
     },
     "execution_count": 3,
     "metadata": {},
     "output_type": "execute_result"
    }
   ],
   "source": [
    "dxdata.__version__"
   ]
  },
  {
   "cell_type": "code",
   "execution_count": 4,
   "metadata": {
    "tags": []
   },
   "outputs": [],
   "source": [
    "# silence warning\n",
    "import warnings\n",
    "warnings.filterwarnings('ignore')\n",
    "\n",
    "# Re-enable warnings after your code if you want to see warnings again in subsequent cells\n",
    "# warnings.filterwarnings('default')"
   ]
  },
  {
   "cell_type": "code",
   "execution_count": 5,
   "metadata": {
    "tags": []
   },
   "outputs": [],
   "source": [
    "# Set the option to None to display all rows, or set a specific number\n",
    "# pd.set_option('display.max_rows', None)\n",
    "\n",
    "# Reset display options to default\n",
    "# pd.reset_option('display.max_rows')"
   ]
  },
  {
   "cell_type": "code",
   "execution_count": 6,
   "metadata": {
    "tags": []
   },
   "outputs": [],
   "source": [
    "# Automatically discover dispensed database name and dataset id\n",
    "dispensed_database = dxpy.find_one_data_object(\n",
    "    classname='database', \n",
    "    name='app*', \n",
    "    folder='/', \n",
    "    name_mode='glob', \n",
    "    describe=True)\n",
    "dispensed_database_name = dispensed_database['describe']['name']\n",
    "\n",
    "dispensed_dataset = dxpy.find_one_data_object(\n",
    "    typename='Dataset', \n",
    "    name='app*.dataset', \n",
    "    folder='/', \n",
    "    name_mode='glob')\n",
    "dispensed_dataset_id = dispensed_dataset['id']"
   ]
  },
  {
   "cell_type": "markdown",
   "metadata": {},
   "source": [
    "## Access dataset"
   ]
  },
  {
   "cell_type": "code",
   "execution_count": 7,
   "metadata": {
    "tags": []
   },
   "outputs": [],
   "source": [
    "dataset = dxdata.load_dataset(id=dispensed_dataset_id)"
   ]
  },
  {
   "cell_type": "markdown",
   "metadata": {},
   "source": [
    "### Dataset 'entities' are virtual tables linked to one another.\n",
    "\n",
    "The main entity is 'participant' and corresponds to most pheno fields. Additional entities correspond to linked health care data.\n",
    "Entities starting with 'hesin' are for hospital records; entities starting with 'gp' are for GP records, etc."
   ]
  },
  {
   "cell_type": "code",
   "execution_count": 8,
   "metadata": {
    "tags": []
   },
   "outputs": [
    {
     "data": {
      "text/plain": [
       "[<Entity \"participant\">,\n",
       " <Entity \"covid19_result_england\">,\n",
       " <Entity \"covid19_result_scotland\">,\n",
       " <Entity \"covid19_result_wales\">,\n",
       " <Entity \"gp_clinical\">,\n",
       " <Entity \"gp_scripts\">,\n",
       " <Entity \"gp_registrations\">,\n",
       " <Entity \"hesin\">,\n",
       " <Entity \"hesin_diag\">,\n",
       " <Entity \"hesin_oper\">,\n",
       " <Entity \"hesin_critical\">,\n",
       " <Entity \"hesin_maternity\">,\n",
       " <Entity \"hesin_delivery\">,\n",
       " <Entity \"hesin_psych\">,\n",
       " <Entity \"death\">,\n",
       " <Entity \"death_cause\">,\n",
       " <Entity \"omop_death\">,\n",
       " <Entity \"omop_device_exposure\">,\n",
       " <Entity \"omop_note\">,\n",
       " <Entity \"omop_observation\">,\n",
       " <Entity \"omop_drug_exposure\">,\n",
       " <Entity \"omop_observation_period\">,\n",
       " <Entity \"omop_person\">,\n",
       " <Entity \"omop_procedure_occurrence\">,\n",
       " <Entity \"omop_specimen\">,\n",
       " <Entity \"omop_visit_detail\">,\n",
       " <Entity \"omop_visit_occurrence\">,\n",
       " <Entity \"omop_dose_era\">,\n",
       " <Entity \"omop_drug_era\">,\n",
       " <Entity \"omop_condition_era\">,\n",
       " <Entity \"omop_condition_occurrence\">,\n",
       " <Entity \"omop_measurement\">,\n",
       " <Entity \"olink_instance_0\">,\n",
       " <Entity \"olink_instance_2\">,\n",
       " <Entity \"olink_instance_3\">]"
      ]
     },
     "execution_count": 8,
     "metadata": {},
     "output_type": "execute_result"
    }
   ],
   "source": [
    "dataset.entities"
   ]
  },
  {
   "cell_type": "markdown",
   "metadata": {},
   "source": [
    "### Step 1: Accessing the main 'participant' entity\n",
    "The extraction code follows some examples"
   ]
  },
  {
   "cell_type": "code",
   "execution_count": 9,
   "metadata": {
    "tags": []
   },
   "outputs": [],
   "source": [
    "participant = dataset['participant']"
   ]
  },
  {
   "cell_type": "markdown",
   "metadata": {},
   "source": [
    "#### Constructing field names, given UKB showcase field id, instance id, and array id\n",
    "\n",
    "For the main participant data, the Platform uses field names with the following convention:\n",
    "\n",
    "|Type of field|Syntax for field name|Example|\n",
    "|:------------|---------------------|-------|\n",
    "|Neither instanced nor arrayed|`p<FIELD-ID>`|`p31`|\n",
    "|Instanced but not arrayed|`p<FIELD-ID>_i<INSTANCE-ID>`|`p40005_i0`|\n",
    "|Arrayed but not instanced|`p<FIELD-ID>_a<ARRAY-ID>`|`p41262_a0`|\n",
    "|Instanced and arrayed|`p<FIELD-ID>_i<INSTANCE-ID>_a<ARRAY-ID>`|`p93_i0_a0`|\n",
    "\n",
    "Lastly, the participant id field itself (EID) is named `eid`\n",
    "\n",
    "If you know exactly the field names you want to work with, put them in a string array (we will see later how to use that):"
   ]
  },
  {
   "cell_type": "code",
   "execution_count": 10,
   "metadata": {
    "tags": []
   },
   "outputs": [],
   "source": [
    "# example\n",
    "# field_names = ['eid', 'p31', 'p21022', 'p40005_i0', 'p93_i0_a0']"
   ]
  },
  {
   "cell_type": "markdown",
   "metadata": {},
   "source": [
    "#### Looking up fields, given UKB showcase field id\n",
    "\n",
    "If you know the field id but you are not sure if it is instanced or arrayed, and want to grab all instances/arrays (if any), use these:"
   ]
  },
  {
   "cell_type": "code",
   "execution_count": 11,
   "metadata": {
    "tags": []
   },
   "outputs": [],
   "source": [
    "# Returns all field objects for a given UKB showcase field id\n",
    "\n",
    "def fields_for_id(field_id):\n",
    "    from distutils.version import LooseVersion\n",
    "    field_id = str(field_id)\n",
    "    fields = participant.find_fields(name_regex=r'^p{}(_i\\d+)?(_a\\d+)?$'.format(field_id))\n",
    "    return sorted(fields, key=lambda f: LooseVersion(f.name))\n",
    "\n",
    "# Returns all field names for a given UKB showcase field id\n",
    "\n",
    "def field_names_for_id(field_id):\n",
    "    return [f.name for f in fields_for_id(field_id)]"
   ]
  },
  {
   "cell_type": "markdown",
   "metadata": {},
   "source": [
    "##### Examples:"
   ]
  },
  {
   "cell_type": "code",
   "execution_count": 12,
   "metadata": {
    "tags": []
   },
   "outputs": [
    {
     "data": {
      "text/plain": [
       "['p31']"
      ]
     },
     "execution_count": 12,
     "metadata": {},
     "output_type": "execute_result"
    }
   ],
   "source": [
    "# Participant sex\n",
    "field_names_for_id('31')"
   ]
  },
  {
   "cell_type": "code",
   "execution_count": 13,
   "metadata": {
    "tags": []
   },
   "outputs": [
    {
     "data": {
      "text/plain": [
       "['p21003_i0', 'p21003_i1', 'p21003_i2', 'p21003_i3']"
      ]
     },
     "execution_count": 13,
     "metadata": {},
     "output_type": "execute_result"
    }
   ],
   "source": [
    "# Age when attending assessment centre has multiple instances (visits) \n",
    "field_names_for_id('21003')"
   ]
  },
  {
   "cell_type": "code",
   "execution_count": 14,
   "metadata": {
    "tags": []
   },
   "outputs": [
    {
     "data": {
      "text/plain": [
       "['p21001_i0', 'p21001_i1', 'p21001_i2', 'p21001_i3']"
      ]
     },
     "execution_count": 14,
     "metadata": {},
     "output_type": "execute_result"
    }
   ],
   "source": [
    "field_names_for_id('21001') # BMI"
   ]
  },
  {
   "cell_type": "code",
   "execution_count": 15,
   "metadata": {
    "tags": []
   },
   "outputs": [
    {
     "data": {
      "text/plain": [
       "['p22009_a1',\n",
       " 'p22009_a2',\n",
       " 'p22009_a3',\n",
       " 'p22009_a4',\n",
       " 'p22009_a5',\n",
       " 'p22009_a6',\n",
       " 'p22009_a7',\n",
       " 'p22009_a8',\n",
       " 'p22009_a9',\n",
       " 'p22009_a10',\n",
       " 'p22009_a11',\n",
       " 'p22009_a12',\n",
       " 'p22009_a13',\n",
       " 'p22009_a14',\n",
       " 'p22009_a15',\n",
       " 'p22009_a16',\n",
       " 'p22009_a17',\n",
       " 'p22009_a18',\n",
       " 'p22009_a19',\n",
       " 'p22009_a20',\n",
       " 'p22009_a21',\n",
       " 'p22009_a22',\n",
       " 'p22009_a23',\n",
       " 'p22009_a24',\n",
       " 'p22009_a25',\n",
       " 'p22009_a26',\n",
       " 'p22009_a27',\n",
       " 'p22009_a28',\n",
       " 'p22009_a29',\n",
       " 'p22009_a30',\n",
       " 'p22009_a31',\n",
       " 'p22009_a32',\n",
       " 'p22009_a33',\n",
       " 'p22009_a34',\n",
       " 'p22009_a35',\n",
       " 'p22009_a36',\n",
       " 'p22009_a37',\n",
       " 'p22009_a38',\n",
       " 'p22009_a39',\n",
       " 'p22009_a40']"
      ]
     },
     "execution_count": 15,
     "metadata": {},
     "output_type": "execute_result"
    }
   ],
   "source": [
    "field_names_for_id('22009') # PC"
   ]
  },
  {
   "cell_type": "markdown",
   "metadata": {},
   "source": [
    "#### Looking up fields by title keyword\n",
    "\n",
    "If you remember part of the field title, use these:"
   ]
  },
  {
   "cell_type": "code",
   "execution_count": 16,
   "metadata": {
    "tags": []
   },
   "outputs": [],
   "source": [
    "# Returns all field objects for a given title keyword\n",
    "\n",
    "def fields_by_title_keyword(keyword):\n",
    "    from distutils.version import LooseVersion\n",
    "    fields = list(participant.find_fields(lambda f: keyword.lower() in f.title.lower()))\n",
    "    return sorted(fields, key=lambda f: LooseVersion(f.name))\n",
    "\n",
    "# Returns all field names for a given title keyword\n",
    "\n",
    "def field_names_by_title_keyword(keyword):\n",
    "    return [f.name for f in fields_by_title_keyword(keyword)]\n",
    "\n",
    "# Returns all field titles for a given title keyword\n",
    "\n",
    "def field_titles_by_title_keyword(keyword):\n",
    "    return [f.title for f in fields_by_title_keyword(keyword)]\n",
    "\n",
    "# Furhter information: https://github.com/dnanexus/OpenBio/blob/master/UKB_notebooks/ukb-rap-pheno-basic.ipynb"
   ]
  },
  {
   "cell_type": "markdown",
   "metadata": {},
   "source": [
    "### Grabbing fields into a Spark DataFrame\n",
    "\n",
    "The `participant.retrieve_fields` function can be used to construct a Spark DataFrame of the given fields.\n",
    "\n",
    "By default, this retrieves data as encoded by UK Biobank. For example, field p31 (participant sex) will be returned as an integer column with values of 0 and 1. To receive decoded values, supply the `coding_values='replace'` argument.\n",
    "\n",
    "For more information, see [Tips for Retrieving Fields](https://dnanexus.gitbook.io/uk-biobank-rap/getting-started/working-with-ukb-data#tips-for-retrieving-fields) in the documentation."
   ]
  },
  {
   "cell_type": "markdown",
   "metadata": {
    "tags": []
   },
   "source": [
    "## Extract clinical data "
   ]
  },
  {
   "cell_type": "code",
   "execution_count": 26,
   "metadata": {
    "tags": []
   },
   "outputs": [],
   "source": [
    "field_names = ['eid', \n",
    "               'p31',  # sex\n",
    "               'p21022',  # age at recruitment\n",
    "               'p21001_i0',  # BMI\n",
    "               'p54_i0',  # UK Biobank assessment centre\n",
    "               'p53_i0',  # Date of attending assessment centre p53_i0\n",
    "               'p3166_i0_a0', # time of blood collection\n",
    "               'p22019', # Sex_chromosome_aneuploidy\n",
    "               'p22000', # genotype batch\n",
    "               'p22006',# genetic grouping, \n",
    "               'p30901_i0', # olink plateID\n",
    "              ] \\\n",
    "                + field_names_for_id('22009') \n",
    "\n",
    "# 41270 = ICD10"
   ]
  },
  {
   "cell_type": "markdown",
   "metadata": {},
   "source": [
    "• Further informatiaon on Date of first in-patient diagnosis can be found at https://biobank.ndph.ox.ac.uk/crystal/field.cgi?id=41280:\n",
    "The corresponding ICD-10 diagnosis codes can be found in data-field Field 41270 and the two fields can be linked using the array structure.\n",
    "\n",
    "• CAD definition and risk factors:\n",
    "J Am Coll Cardiol. 2018 Oct 16;72(16):1883-1893. \n",
    "https://pubmed.ncbi.nlm.nih.gov/30309464/\n"
   ]
  },
  {
   "cell_type": "markdown",
   "metadata": {},
   "source": [
    "## Grabbing fields into a Spark DataFrame\n",
    "The participant.retrieve_fields function can be used to construct a Spark DataFrame of the given fields.\n",
    "\n",
    "By default, this retrieves data as encoded by UK Biobank. For example, field p31 (participant sex) will be returned as an integer column with values of 0 and 1. To receive decoded values, supply the coding_values='replace' argument.\n",
    "\n",
    "For more information, see Tips for Retrieving Fields in the documentation."
   ]
  },
  {
   "cell_type": "code",
   "execution_count": 27,
   "metadata": {
    "tags": []
   },
   "outputs": [],
   "source": [
    "# Grabbing fields into a Spark DataFrame\n",
    "df = participant.retrieve_fields(names=field_names, engine=dxdata.connect())"
   ]
  },
  {
   "cell_type": "code",
   "execution_count": 28,
   "metadata": {
    "tags": []
   },
   "outputs": [],
   "source": [
    "# See the first five entries as a Spark DataFrame:\n",
    "# df.show(5, truncate=False)"
   ]
  },
  {
   "cell_type": "code",
   "execution_count": 29,
   "metadata": {
    "tags": []
   },
   "outputs": [
    {
     "data": {
      "text/html": [
       "<div>\n",
       "<style scoped>\n",
       "    .dataframe tbody tr th:only-of-type {\n",
       "        vertical-align: middle;\n",
       "    }\n",
       "\n",
       "    .dataframe tbody tr th {\n",
       "        vertical-align: top;\n",
       "    }\n",
       "\n",
       "    .dataframe thead th {\n",
       "        text-align: right;\n",
       "    }\n",
       "</style>\n",
       "<table border=\"1\" class=\"dataframe\">\n",
       "  <thead>\n",
       "    <tr style=\"text-align: right;\">\n",
       "      <th></th>\n",
       "      <th>eid</th>\n",
       "      <th>p31</th>\n",
       "      <th>p21022</th>\n",
       "      <th>p21001_i0</th>\n",
       "      <th>p54_i0</th>\n",
       "      <th>p53_i0</th>\n",
       "      <th>p3166_i0_a0</th>\n",
       "      <th>p22019</th>\n",
       "      <th>p22000</th>\n",
       "      <th>p22006</th>\n",
       "      <th>...</th>\n",
       "      <th>p22009_a31</th>\n",
       "      <th>p22009_a32</th>\n",
       "      <th>p22009_a33</th>\n",
       "      <th>p22009_a34</th>\n",
       "      <th>p22009_a35</th>\n",
       "      <th>p22009_a36</th>\n",
       "      <th>p22009_a37</th>\n",
       "      <th>p22009_a38</th>\n",
       "      <th>p22009_a39</th>\n",
       "      <th>p22009_a40</th>\n",
       "    </tr>\n",
       "  </thead>\n",
       "  <tbody>\n",
       "    <tr>\n",
       "      <th>0</th>\n",
       "      <td>2789877</td>\n",
       "      <td>1</td>\n",
       "      <td>56</td>\n",
       "      <td>22.6630</td>\n",
       "      <td>11004</td>\n",
       "      <td>2008-04-07</td>\n",
       "      <td>2008-04-07 11:29:25</td>\n",
       "      <td>NaN</td>\n",
       "      <td>4.0</td>\n",
       "      <td>1.0</td>\n",
       "      <td>...</td>\n",
       "      <td>-1.047680</td>\n",
       "      <td>-0.68373</td>\n",
       "      <td>0.89316</td>\n",
       "      <td>0.975021</td>\n",
       "      <td>-2.887280</td>\n",
       "      <td>-0.888835</td>\n",
       "      <td>-0.966800</td>\n",
       "      <td>0.01902</td>\n",
       "      <td>-0.902692</td>\n",
       "      <td>1.708810</td>\n",
       "    </tr>\n",
       "    <tr>\n",
       "      <th>1</th>\n",
       "      <td>3070454</td>\n",
       "      <td>1</td>\n",
       "      <td>61</td>\n",
       "      <td>25.3439</td>\n",
       "      <td>11009</td>\n",
       "      <td>2008-03-14</td>\n",
       "      <td>2008-03-14 11:21:35</td>\n",
       "      <td>NaN</td>\n",
       "      <td>28.0</td>\n",
       "      <td>1.0</td>\n",
       "      <td>...</td>\n",
       "      <td>-0.381002</td>\n",
       "      <td>2.19338</td>\n",
       "      <td>-2.32264</td>\n",
       "      <td>3.257110</td>\n",
       "      <td>-1.101520</td>\n",
       "      <td>0.027381</td>\n",
       "      <td>3.911290</td>\n",
       "      <td>1.82667</td>\n",
       "      <td>-0.034788</td>\n",
       "      <td>-0.750132</td>\n",
       "    </tr>\n",
       "    <tr>\n",
       "      <th>2</th>\n",
       "      <td>2733030</td>\n",
       "      <td>0</td>\n",
       "      <td>59</td>\n",
       "      <td>24.8491</td>\n",
       "      <td>11016</td>\n",
       "      <td>2009-04-08</td>\n",
       "      <td>2009-04-08 11:11:28</td>\n",
       "      <td>NaN</td>\n",
       "      <td>7.0</td>\n",
       "      <td>1.0</td>\n",
       "      <td>...</td>\n",
       "      <td>-2.269420</td>\n",
       "      <td>3.45342</td>\n",
       "      <td>1.81036</td>\n",
       "      <td>-2.710140</td>\n",
       "      <td>0.148229</td>\n",
       "      <td>-3.243800</td>\n",
       "      <td>0.778766</td>\n",
       "      <td>1.95113</td>\n",
       "      <td>4.714450</td>\n",
       "      <td>-1.682480</td>\n",
       "    </tr>\n",
       "    <tr>\n",
       "      <th>3</th>\n",
       "      <td>3039657</td>\n",
       "      <td>1</td>\n",
       "      <td>57</td>\n",
       "      <td>29.3577</td>\n",
       "      <td>10003</td>\n",
       "      <td>2006-03-21</td>\n",
       "      <td>2006-03-21 09:50:23</td>\n",
       "      <td>NaN</td>\n",
       "      <td>NaN</td>\n",
       "      <td>NaN</td>\n",
       "      <td>...</td>\n",
       "      <td>NaN</td>\n",
       "      <td>NaN</td>\n",
       "      <td>NaN</td>\n",
       "      <td>NaN</td>\n",
       "      <td>NaN</td>\n",
       "      <td>NaN</td>\n",
       "      <td>NaN</td>\n",
       "      <td>NaN</td>\n",
       "      <td>NaN</td>\n",
       "      <td>NaN</td>\n",
       "    </tr>\n",
       "    <tr>\n",
       "      <th>4</th>\n",
       "      <td>4404117</td>\n",
       "      <td>0</td>\n",
       "      <td>49</td>\n",
       "      <td>34.1036</td>\n",
       "      <td>11014</td>\n",
       "      <td>2010-06-22</td>\n",
       "      <td>2010-06-22 18:38:14</td>\n",
       "      <td>NaN</td>\n",
       "      <td>55.0</td>\n",
       "      <td>1.0</td>\n",
       "      <td>...</td>\n",
       "      <td>-7.316860</td>\n",
       "      <td>1.28335</td>\n",
       "      <td>3.97141</td>\n",
       "      <td>1.290280</td>\n",
       "      <td>1.064820</td>\n",
       "      <td>6.634080</td>\n",
       "      <td>3.033570</td>\n",
       "      <td>-1.99974</td>\n",
       "      <td>5.446890</td>\n",
       "      <td>-4.351530</td>\n",
       "    </tr>\n",
       "  </tbody>\n",
       "</table>\n",
       "<p>5 rows × 51 columns</p>\n",
       "</div>"
      ],
      "text/plain": [
       "       eid  p31  p21022  p21001_i0  p54_i0      p53_i0         p3166_i0_a0  \\\n",
       "0  2789877    1      56    22.6630   11004  2008-04-07 2008-04-07 11:29:25   \n",
       "1  3070454    1      61    25.3439   11009  2008-03-14 2008-03-14 11:21:35   \n",
       "2  2733030    0      59    24.8491   11016  2009-04-08 2009-04-08 11:11:28   \n",
       "3  3039657    1      57    29.3577   10003  2006-03-21 2006-03-21 09:50:23   \n",
       "4  4404117    0      49    34.1036   11014  2010-06-22 2010-06-22 18:38:14   \n",
       "\n",
       "   p22019  p22000  p22006  ... p22009_a31  p22009_a32  p22009_a33  p22009_a34  \\\n",
       "0     NaN     4.0     1.0  ...  -1.047680    -0.68373     0.89316    0.975021   \n",
       "1     NaN    28.0     1.0  ...  -0.381002     2.19338    -2.32264    3.257110   \n",
       "2     NaN     7.0     1.0  ...  -2.269420     3.45342     1.81036   -2.710140   \n",
       "3     NaN     NaN     NaN  ...        NaN         NaN         NaN         NaN   \n",
       "4     NaN    55.0     1.0  ...  -7.316860     1.28335     3.97141    1.290280   \n",
       "\n",
       "   p22009_a35  p22009_a36  p22009_a37  p22009_a38  p22009_a39  p22009_a40  \n",
       "0   -2.887280   -0.888835   -0.966800     0.01902   -0.902692    1.708810  \n",
       "1   -1.101520    0.027381    3.911290     1.82667   -0.034788   -0.750132  \n",
       "2    0.148229   -3.243800    0.778766     1.95113    4.714450   -1.682480  \n",
       "3         NaN         NaN         NaN         NaN         NaN         NaN  \n",
       "4    1.064820    6.634080    3.033570    -1.99974    5.446890   -4.351530  \n",
       "\n",
       "[5 rows x 51 columns]"
      ]
     },
     "execution_count": 29,
     "metadata": {},
     "output_type": "execute_result"
    }
   ],
   "source": [
    "# See the first five entries as a Pandas DataFrame:\n",
    "df.limit(5).toPandas()"
   ]
  },
  {
   "cell_type": "code",
   "execution_count": 30,
   "metadata": {
    "tags": []
   },
   "outputs": [],
   "source": [
    "# if the above looks good, go ahead and convert the entire spark data frame to pandas data frame \n",
    "pdf = df.toPandas()"
   ]
  },
  {
   "cell_type": "code",
   "execution_count": 31,
   "metadata": {
    "tags": []
   },
   "outputs": [
    {
     "name": "stdout",
     "output_type": "stream",
     "text": [
      "Index(['eid', 'p31', 'p21022', 'p21001_i0', 'p54_i0', 'p53_i0', 'p3166_i0_a0',\n",
      "       'p22019', 'p22000', 'p22006', 'p30901_i0', 'p22009_a1', 'p22009_a2',\n",
      "       'p22009_a3', 'p22009_a4', 'p22009_a5', 'p22009_a6', 'p22009_a7',\n",
      "       'p22009_a8', 'p22009_a9', 'p22009_a10', 'p22009_a11', 'p22009_a12',\n",
      "       'p22009_a13', 'p22009_a14', 'p22009_a15', 'p22009_a16', 'p22009_a17',\n",
      "       'p22009_a18', 'p22009_a19', 'p22009_a20', 'p22009_a21', 'p22009_a22',\n",
      "       'p22009_a23', 'p22009_a24', 'p22009_a25', 'p22009_a26', 'p22009_a27',\n",
      "       'p22009_a28', 'p22009_a29', 'p22009_a30', 'p22009_a31', 'p22009_a32',\n",
      "       'p22009_a33', 'p22009_a34', 'p22009_a35', 'p22009_a36', 'p22009_a37',\n",
      "       'p22009_a38', 'p22009_a39', 'p22009_a40'],\n",
      "      dtype='object')\n"
     ]
    }
   ],
   "source": [
    "print(pdf.columns)"
   ]
  },
  {
   "cell_type": "code",
   "execution_count": 32,
   "metadata": {
    "tags": []
   },
   "outputs": [],
   "source": [
    "# Set the option to None to display all rows, or set a specific number\n",
    "# pd.set_option('display.max_rows', None)\n",
    "\n",
    "# Your code to display the Series or DataFrame\n",
    "# For example, if you have a Series named non_na_counts:\n",
    "# pdf.count()"
   ]
  },
  {
   "cell_type": "code",
   "execution_count": 33,
   "metadata": {
    "tags": []
   },
   "outputs": [],
   "source": [
    "## Given the information above, re-select the column if needed\n",
    "#field_names = ['p31', 'p21022', 'p54_i0', 'p41202', 'p53_i0', 'p40000_i0']  \\\n",
    "#    + field_names_for_id('41280') \n",
    "#df = participant.retrieve_fields(names=field_names, engine=dxdata.connect())"
   ]
  },
  {
   "cell_type": "code",
   "execution_count": 34,
   "metadata": {
    "tags": []
   },
   "outputs": [],
   "source": [
    "# Reset display options to default\n",
    "# pd.reset_option('display.max_rows')"
   ]
  },
  {
   "cell_type": "code",
   "execution_count": 35,
   "metadata": {
    "tags": []
   },
   "outputs": [],
   "source": [
    "# Saving as TSV file\n",
    "pdf.to_csv('clinical_data.tsv', sep='\\t', index=False)"
   ]
  },
  {
   "cell_type": "markdown",
   "metadata": {},
   "source": [
    "### Step 2: Extract Olink proteomics from dataset['olink_instance_0']"
   ]
  },
  {
   "cell_type": "code",
   "execution_count": 36,
   "metadata": {
    "tags": []
   },
   "outputs": [],
   "source": [
    "olink = dataset['olink_instance_0']\n",
    "# olink.fields # to list all"
   ]
  },
  {
   "cell_type": "code",
   "execution_count": 37,
   "metadata": {
    "tags": []
   },
   "outputs": [
    {
     "data": {
      "text/plain": [
       "list"
      ]
     },
     "execution_count": 37,
     "metadata": {},
     "output_type": "execute_result"
    }
   ],
   "source": [
    "temp_list = olink.fields\n",
    "type(temp_list)"
   ]
  },
  {
   "cell_type": "code",
   "execution_count": 38,
   "metadata": {
    "tags": []
   },
   "outputs": [],
   "source": [
    "#def field_names_for_id(field_id):\n",
    "#    return [f.name for f in fields_for_id(field_id)]\n",
    "olink_all_field_names = [f.name for f in olink.fields]"
   ]
  },
  {
   "cell_type": "code",
   "execution_count": 39,
   "metadata": {
    "tags": []
   },
   "outputs": [
    {
     "data": {
      "text/plain": [
       "['eid', 'a1bg', 'aamdc', 'aarsd1', 'abca2']"
      ]
     },
     "execution_count": 39,
     "metadata": {},
     "output_type": "execute_result"
    }
   ],
   "source": [
    "#field_names = ['eid', 'col6a3'] # select like this if you're interested in only a few protein\n",
    "olink_all_field_names[:5] # check"
   ]
  },
  {
   "cell_type": "code",
   "execution_count": 40,
   "metadata": {
    "tags": []
   },
   "outputs": [],
   "source": [
    "dfo = olink.retrieve_fields(names=olink_all_field_names, engine=dxdata.connect())"
   ]
  },
  {
   "cell_type": "code",
   "execution_count": 41,
   "metadata": {
    "tags": []
   },
   "outputs": [],
   "source": [
    "# to check\n",
    "# dfo.head(5)"
   ]
  },
  {
   "cell_type": "markdown",
   "metadata": {},
   "source": [
    "### In case of extracting particular proteins only:\n",
    "olink_field_names = ['eid', 'col6a3']\n",
    "dfo = olink.retrieve_fields(names=olink_field_names, engine=dxdata.connect())"
   ]
  },
  {
   "cell_type": "code",
   "execution_count": 42,
   "metadata": {
    "tags": []
   },
   "outputs": [],
   "source": [
    "# See the first five entries as a Pandas DataFrame:\n",
    "# dfo.limit(5).toPandas()"
   ]
  },
  {
   "cell_type": "code",
   "execution_count": 4,
   "metadata": {
    "tags": []
   },
   "outputs": [
    {
     "ename": "NameError",
     "evalue": "name 'dfo' is not defined",
     "output_type": "error",
     "traceback": [
      "\u001b[0;31m---------------------------------------------------------------------------\u001b[0m",
      "\u001b[0;31mNameError\u001b[0m                                 Traceback (most recent call last)",
      "Cell \u001b[0;32mIn[4], line 1\u001b[0m\n\u001b[0;32m----> 1\u001b[0m \u001b[43mdfo\u001b[49m\u001b[38;5;241m.\u001b[39mcount() \u001b[38;5;66;03m# check rows (53016 individual's data)\u001b[39;00m\n",
      "\u001b[0;31mNameError\u001b[0m: name 'dfo' is not defined"
     ]
    }
   ],
   "source": [
    "dfo.count() # check rows (53016 individual's data)"
   ]
  },
  {
   "cell_type": "code",
   "execution_count": 2,
   "metadata": {
    "tags": []
   },
   "outputs": [
    {
     "ename": "NameError",
     "evalue": "name 'dfo' is not defined",
     "output_type": "error",
     "traceback": [
      "\u001b[0;31m---------------------------------------------------------------------------\u001b[0m",
      "\u001b[0;31mNameError\u001b[0m                                 Traceback (most recent call last)",
      "Cell \u001b[0;32mIn[2], line 1\u001b[0m\n\u001b[0;32m----> 1\u001b[0m pdfo \u001b[38;5;241m=\u001b[39m \u001b[43mdfo\u001b[49m\u001b[38;5;241m.\u001b[39mtoPandas()\n",
      "\u001b[0;31mNameError\u001b[0m: name 'dfo' is not defined"
     ]
    }
   ],
   "source": [
    "pdfo = dfo.toPandas()"
   ]
  },
  {
   "cell_type": "code",
   "execution_count": 3,
   "metadata": {
    "tags": []
   },
   "outputs": [
    {
     "ename": "NameError",
     "evalue": "name 'pdfo' is not defined",
     "output_type": "error",
     "traceback": [
      "\u001b[0;31m---------------------------------------------------------------------------\u001b[0m",
      "\u001b[0;31mNameError\u001b[0m                                 Traceback (most recent call last)",
      "Cell \u001b[0;32mIn[3], line 1\u001b[0m\n\u001b[0;32m----> 1\u001b[0m \u001b[43mpdfo\u001b[49m\u001b[38;5;241m.\u001b[39mshape \u001b[38;5;66;03m# (53016, 2924)\u001b[39;00m\n",
      "\u001b[0;31mNameError\u001b[0m: name 'pdfo' is not defined"
     ]
    }
   ],
   "source": [
    "pdfo.shape # (53016, 2924)"
   ]
  },
  {
   "cell_type": "code",
   "execution_count": null,
   "metadata": {
    "tags": []
   },
   "outputs": [],
   "source": [
    "# Alternative approach\n",
    "# pdfo = dfo.toPandas() is very memory intensive. So instead, we can do this sequentially (if needed).\n",
    "from pyspark.sql.functions import monotonically_increasing_id, row_number\n",
    "from pyspark.sql.window import Window\n",
    "\n",
    "# Total number of rows in the DataFrame\n",
    "total_rows = dfo.count()\n",
    "\n",
    "# Number of chunks\n",
    "num_chunks = 10\n",
    "\n",
    "# Calculate the number of rows per chunk. Adding 1 to ensure the last chunk includes all remaining rows\n",
    "rows_per_chunk = (total_rows // num_chunks) + (total_rows % num_chunks > 0)\n",
    "\n",
    "# Initialize an empty list to store each chunk's pandas DataFrame\n",
    "chunks_list = []\n",
    "\n",
    "# Create a column 'row_id' to help in filtering rows for each chunk\n",
    "dfo_with_id = dfo.withColumn(\"row_id\", row_number().over(Window.orderBy(monotonically_increasing_id())) - 1)\n",
    "\n",
    "for i in range(num_chunks):\n",
    "    # Calculate start index for the current chunk\n",
    "    start_index = i * rows_per_chunk\n",
    "    \n",
    "    # End index is not needed as we limit the number of rows fetched\n",
    "    chunk_df = dfo_with_id.filter(dfo_with_id.row_id >= start_index).limit(rows_per_chunk)\n",
    "    \n",
    "    # Convert the chunk to a pandas DataFrame and append to the list\n",
    "    chunk_pd_df = chunk_df.drop(\"row_id\").toPandas()\n",
    "    chunks_list.append(chunk_pd_df)\n",
    "\n",
    "# Concatenate all chunks to form the final pandas DataFrame\n",
    "pdf = pd.concat(chunks_list, ignore_index=True)\n",
    "\n",
    "# Checking the shape of the final DataFrame\n",
    "print(pdf.shape)"
   ]
  },
  {
   "cell_type": "code",
   "execution_count": 1,
   "metadata": {
    "tags": []
   },
   "outputs": [
    {
     "ename": "NameError",
     "evalue": "name 'pdfo' is not defined",
     "output_type": "error",
     "traceback": [
      "\u001b[0;31m---------------------------------------------------------------------------\u001b[0m",
      "\u001b[0;31mNameError\u001b[0m                                 Traceback (most recent call last)",
      "Cell \u001b[0;32mIn[1], line 1\u001b[0m\n\u001b[0;32m----> 1\u001b[0m \u001b[43mpdfo\u001b[49m\u001b[38;5;241m.\u001b[39miloc[:\u001b[38;5;241m5\u001b[39m, :\u001b[38;5;241m5\u001b[39m] \u001b[38;5;66;03m# check\u001b[39;00m\n",
      "\u001b[0;31mNameError\u001b[0m: name 'pdfo' is not defined"
     ]
    }
   ],
   "source": [
    "pdfo.iloc[:5, :5] # check"
   ]
  },
  {
   "cell_type": "code",
   "execution_count": null,
   "metadata": {
    "tags": []
   },
   "outputs": [],
   "source": [
    "pdfo.to_csv('olink_data.tsv', sep='\\t', index=False)"
   ]
  },
  {
   "cell_type": "code",
   "execution_count": 5,
   "metadata": {
    "tags": []
   },
   "outputs": [
    {
     "name": "stdout",
     "output_type": "stream",
     "text": [
      "ID                          file-GjFBgJjJBPpvv7B2JQ2yQkzg\n",
      "Class                       file\n",
      "Project                     project-Gf7Jk4QJBPpxxxG2x187pyJg\n",
      "Folder                      /data/04.COL6A3\n",
      "Name                        ukbrap_extract_clinical_olink_data.ipynb\n",
      "State                       closing\n",
      "Visibility                  visible\n",
      "Types                       -\n",
      "Properties                  -\n",
      "Tags                        -\n",
      "Outgoing links              -\n",
      "Created                     Wed Apr 10 15:09:43 2024\n",
      "Created by                  satoshi.yoshiji\n",
      " via the job                job-GjF9jx0JBPpbPqBx1Fy7zKqY\n",
      "Last modified               Wed Apr 10 15:09:44 2024\n",
      "Media type                  \n",
      "archivalState               \"live\"\n",
      "cloudAccount                \"cloudaccount-dnanexus\"\n"
     ]
    }
   ],
   "source": [
    "%%bash\n",
    "#dx upload clinical_data.tsv --dest UKB:/data/04.COL6A3/\n",
    "#dx upload olink_data.tsv --dest UKB:/data/04.COL6A3/\n",
    "dx upload ukbrap_extract_clinical_olink_data.ipynb --dest UKB:/data/04.COL6A3/"
   ]
  },
  {
   "cell_type": "markdown",
   "metadata": {
    "tags": []
   },
   "source": [
    "## Below are miscellaneous codes"
   ]
  },
  {
   "cell_type": "markdown",
   "metadata": {},
   "source": [
    "### if you want to combine data frame, use pandas's merge \n",
    "combined = pd.merge(pdf, df_final, on = 'eid', how= 'left')"
   ]
  },
  {
   "cell_type": "markdown",
   "metadata": {},
   "source": [
    "### Filtering spark dataframes\n",
    "\n",
    "Spark dataframes can be filtered using the syntax: `df.filter(expression)`\n",
    "\n",
    "The expression can be either :\n",
    "\n",
    "* a string expression, built using SQL field names (e.g. `p31`) and SQL operators (e.g. `=`, `NOT`, `OR`, `AND`)\n",
    "  * example: `'(p21022 >= 50) AND (p31 = 0)'`\n",
    "  \n",
    "\n",
    "* a Python expression, built using Python object fields (e.g. `df.p31`) and Python operators (e.g. `==`, `!`, `|`, `&`)\n",
    "  * example: `(df.p21022 >= 50) & (df.p31 == 0)`"
   ]
  },
  {
   "cell_type": "markdown",
   "metadata": {},
   "source": [
    "#### Example: Participants above 50 years old and female"
   ]
  },
  {
   "cell_type": "markdown",
   "metadata": {},
   "source": [
    "df.count()"
   ]
  },
  {
   "cell_type": "markdown",
   "metadata": {},
   "source": [
    "### Using SQL syntax\n",
    "df.filter('(p21022 >= 50) AND (p31 = 0)').count()"
   ]
  },
  {
   "cell_type": "markdown",
   "metadata": {},
   "source": [
    "### Using Python syntax\n",
    "df.filter((df.p21022 >= 50) & (df.p31 == 0)).count()"
   ]
  },
  {
   "cell_type": "markdown",
   "metadata": {},
   "source": [
    "### Getting more information about fields\n",
    "\n",
    "Field objects (such as those returned by `fields_for_id` and `fields_by_title_keyword` above, or via the `participant[<field_name>]` syntax) provide additional information such as codings and units."
   ]
  },
  {
   "cell_type": "markdown",
   "metadata": {},
   "source": [
    "####  Working with codings"
   ]
  },
  {
   "cell_type": "markdown",
   "metadata": {},
   "source": [
    "participant['p31'].coding"
   ]
  },
  {
   "cell_type": "markdown",
   "metadata": {},
   "source": [
    "participant['p31'].coding.codes"
   ]
  },
  {
   "cell_type": "markdown",
   "metadata": {},
   "source": [
    "def field_codes_by_keyword(field_name, keyword):\n",
    "    return dict([(k,v) for (k,v) in participant[field_name].coding.codes.items() if keyword.lower() in v.lower()])"
   ]
  },
  {
   "cell_type": "markdown",
   "metadata": {},
   "source": [
    "field_codes_by_keyword('p31', 'female')"
   ]
  },
  {
   "cell_type": "markdown",
   "metadata": {},
   "source": [
    "field_codes_by_keyword('p41202', 'obesity')"
   ]
  },
  {
   "cell_type": "markdown",
   "metadata": {},
   "source": [
    "### Additional field information"
   ]
  },
  {
   "cell_type": "markdown",
   "metadata": {},
   "source": [
    "### Get link to UKB documentation page\n",
    "participant['p31'].linkout"
   ]
  },
  {
   "cell_type": "markdown",
   "metadata": {},
   "source": [
    "### Get field units\n",
    "participant['p21022'].units"
   ]
  },
  {
   "cell_type": "markdown",
   "metadata": {},
   "source": [
    "### Saving results"
   ]
  },
  {
   "cell_type": "markdown",
   "metadata": {},
   "source": [
    "### Saving as CSV file\n",
    "df.toPandas().to_csv('results.csv', index=False)"
   ]
  },
  {
   "cell_type": "markdown",
   "metadata": {},
   "source": [
    "### Saving as TSV file\n",
    "df.toPandas().to_csv('results.tsv', sep='\\t', index=False)"
   ]
  },
  {
   "cell_type": "markdown",
   "metadata": {},
   "source": [
    "### Saving as DTA file (Stata)\n",
    "df.toPandas().astype(str).replace('None|NaN|nan', '.', regex=True).to_stata('results.dta')"
   ]
  },
  {
   "cell_type": "markdown",
   "metadata": {},
   "source": [
    "#### Writing results back to the project"
   ]
  },
  {
   "cell_type": "markdown",
   "metadata": {},
   "source": [
    "%%bash\n",
    "dx upload results.tsv --dest / "
   ]
  }
 ],
 "metadata": {
  "kernelspec": {
   "display_name": "Python 3 (ipykernel)",
   "language": "python",
   "name": "python3"
  },
  "language_info": {
   "codemirror_mode": {
    "name": "ipython",
    "version": 3
   },
   "file_extension": ".py",
   "mimetype": "text/x-python",
   "name": "python",
   "nbconvert_exporter": "python",
   "pygments_lexer": "ipython3",
   "version": "3.9.16"
  },
  "toc": {
   "base_numbering": 1,
   "nav_menu": {},
   "number_sections": true,
   "sideBar": true,
   "skip_h1_title": false,
   "title_cell": "Table of Contents",
   "title_sidebar": "Contents",
   "toc_cell": false,
   "toc_position": {},
   "toc_section_display": true,
   "toc_window_display": false
  }
 },
 "nbformat": 4,
 "nbformat_minor": 4
}
